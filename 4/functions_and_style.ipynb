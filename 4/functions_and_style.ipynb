{
 "cells": [
  {
   "cell_type": "code",
   "execution_count": 17,
   "id": "3336de34",
   "metadata": {},
   "outputs": [],
   "source": [
    "import mymodule as mx\n",
    "from mymodule import person1\n",
    "import importlib "
   ]
  },
  {
   "cell_type": "code",
   "execution_count": 18,
   "id": "ea4ba404",
   "metadata": {},
   "outputs": [
    {
     "data": {
      "text/plain": [
       "<module 'mymodule' from '/home/max/code/learn/ml/4/mymodule.py'>"
      ]
     },
     "execution_count": 18,
     "metadata": {},
     "output_type": "execute_result"
    }
   ],
   "source": [
    "importlib.reload(mx)"
   ]
  },
  {
   "cell_type": "code",
   "execution_count": 19,
   "id": "eb5a47c0",
   "metadata": {},
   "outputs": [
    {
     "name": "stdout",
     "output_type": "stream",
     "text": [
      "Hello Max\n",
      "22\n",
      "['__builtins__', '__cached__', '__doc__', '__file__', '__loader__', '__name__', '__package__', '__spec__', 'greeting', 'kids', 'person1']\n"
     ]
    }
   ],
   "source": [
    "mx.greeting(\"Max\")\n",
    "print(person1['Max'])\n",
    "print(dir(mx))"
   ]
  },
  {
   "cell_type": "code",
   "execution_count": null,
   "id": "44eae904",
   "metadata": {},
   "outputs": [
    {
     "name": "stdout",
     "output_type": "stream",
     "text": [
      "1\n"
     ]
    }
   ],
   "source": [
    "mx.kids(2,3,6,344)"
   ]
  }
 ],
 "metadata": {
  "kernelspec": {
   "display_name": ".venv",
   "language": "python",
   "name": "python3"
  },
  "language_info": {
   "codemirror_mode": {
    "name": "ipython",
    "version": 3
   },
   "file_extension": ".py",
   "mimetype": "text/x-python",
   "name": "python",
   "nbconvert_exporter": "python",
   "pygments_lexer": "ipython3",
   "version": "3.12.11"
  }
 },
 "nbformat": 4,
 "nbformat_minor": 5
}
